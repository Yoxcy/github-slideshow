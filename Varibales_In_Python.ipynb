{
  "nbformat": 4,
  "nbformat_minor": 0,
  "metadata": {
    "colab": {
      "name": "Untitled0.ipynb",
      "provenance": [],
      "authorship_tag": "ABX9TyNgZ98fLIoOU6pIKNVtEfyl",
      "include_colab_link": true
    },
    "kernelspec": {
      "name": "python3",
      "display_name": "Python 3"
    },
    "language_info": {
      "name": "python"
    }
  },
  "cells": [
    {
      "cell_type": "markdown",
      "metadata": {
        "id": "view-in-github",
        "colab_type": "text"
      },
      "source": [
        "<a href=\"https://colab.research.google.com/github/Yoxcy/github-slideshow/blob/main/Varibales_In_Python.ipynb\" target=\"_parent\"><img src=\"https://colab.research.google.com/assets/colab-badge.svg\" alt=\"Open In Colab\"/></a>"
      ]
    },
    {
      "cell_type": "code",
      "execution_count": null,
      "metadata": {
        "id": "odlYfmho-RWX"
      },
      "outputs": [],
      "source": [
        "# Different Types Variables\n",
        "\n",
        "# Variable - Just an Object to Store the data\n"
      ]
    },
    {
      "cell_type": "code",
      "source": [
        "# Integer  == Any Number without Decimal. Could be Positive or Negative as well\n",
        "\n",
        "a=3\n",
        "print(a)"
      ],
      "metadata": {
        "id": "FkY6bpFEAJCX"
      },
      "execution_count": null,
      "outputs": []
    },
    {
      "cell_type": "code",
      "source": [
        "# Float -- Any Number with Decimal. Could be Positive or Negative as well\n",
        "\n",
        "b=-3.1\n",
        "print(b)"
      ],
      "metadata": {
        "id": "Gvqc9owT_4Yj"
      },
      "execution_count": null,
      "outputs": []
    },
    {
      "cell_type": "code",
      "source": [
        "# Boolean -- This is Just a True or False\n",
        "\n",
        "c=1\n",
        "d=2\n",
        "print(c>d)"
      ],
      "metadata": {
        "id": "QTxf67wJ_trw"
      },
      "execution_count": null,
      "outputs": []
    },
    {
      "cell_type": "code",
      "source": [
        "# Complex Numbers\n",
        "f=\"3+1j\""
      ],
      "metadata": {
        "id": "H20ygQmS_8gE"
      },
      "execution_count": null,
      "outputs": []
    },
    {
      "cell_type": "code",
      "source": [
        "# String - All Characters - Can be Inserted in Dobule \"\" or Single cotes\n",
        "\n",
        "Dobule=\"String\"\n",
        "Single='String1'\n",
        "print(type(Dobule))"
      ],
      "metadata": {
        "id": "I7RLOUbbAwty"
      },
      "execution_count": null,
      "outputs": []
    },
    {
      "cell_type": "code",
      "source": [
        ""
      ],
      "metadata": {
        "id": "T8xClFcnBEc5"
      },
      "execution_count": null,
      "outputs": []
    }
  ]
}